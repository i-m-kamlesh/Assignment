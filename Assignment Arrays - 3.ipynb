{
 "cells": [
  {
   "cell_type": "code",
   "execution_count": 1,
   "id": "699b7737-5edd-4fb5-b7e7-31464b633266",
   "metadata": {},
   "outputs": [
    {
     "name": "stdout",
     "output_type": "stream",
     "text": [
      "2\n"
     ]
    }
   ],
   "source": [
    "## No 1 :\n",
    "\n",
    "def threeSumClosest(nums, target):\n",
    "    nums.sort()  \n",
    "    n = len(nums)\n",
    "    closest_sum = float('inf')  \n",
    "    \n",
    "    \n",
    "    for i in range(n - 2):\n",
    "        left = i + 1\n",
    "        right = n - 1\n",
    "        \n",
    "        while left < right:\n",
    "            current_sum = nums[i] + nums[left] + nums[right]\n",
    "            \n",
    "            if current_sum == target:\n",
    "                return target\n",
    "            \n",
    "            if abs(current_sum - target) < abs(closest_sum - target):\n",
    "                closest_sum = current_sum\n",
    "            \n",
    "            if current_sum < target:\n",
    "                left += 1\n",
    "            else:\n",
    "                right -= 1\n",
    "    \n",
    "    return closest_sum  \n",
    "\n",
    "##Example :\n",
    "nums = [-1, 2, 1, -4]\n",
    "target = 1\n",
    "result = threeSumClosest(nums, target)\n",
    "print(result)"
   ]
  },
  {
   "cell_type": "code",
   "execution_count": 2,
   "id": "f513be27-120e-4394-bfd4-29dc4bbe211a",
   "metadata": {},
   "outputs": [
    {
     "name": "stdout",
     "output_type": "stream",
     "text": [
      "[[-2, -1, 1, 2], [-2, 0, 0, 2], [-1, 0, 0, 1]]\n"
     ]
    }
   ],
   "source": [
    "## No 2 :\n",
    "\n",
    "def fourSum(nums, target):\n",
    "    nums.sort()  \n",
    "    n = len(nums)\n",
    "    result = []  \n",
    "    \n",
    "    # Step 3\n",
    "    for i in range(n - 3):\n",
    "        if i > 0 and nums[i] == nums[i - 1]:\n",
    "            continue\n",
    "        \n",
    "        for left in range(i + 1, n - 2):\n",
    "            if left > i + 1 and nums[left] == nums[left - 1]:\n",
    "                continue\n",
    "            \n",
    "            right = n - 1\n",
    "            p = left + 1\n",
    "            \n",
    "            while p < right:\n",
    "                current_sum = nums[i] + nums[left] + nums[right] + nums[p]\n",
    "                \n",
    "                if current_sum == target:\n",
    "                    result.append([nums[i], nums[left], nums[p], nums[right]])\n",
    "                    \n",
    "                    while p < right and nums[p] == nums[p + 1]:\n",
    "                        p += 1\n",
    "                    while p < right and nums[right] == nums[right - 1]:\n",
    "                        right -= 1\n",
    "                    \n",
    "                    p += 1\n",
    "                    right -= 1\n",
    "                \n",
    "                elif current_sum < target:\n",
    "                    p += 1\n",
    "                else:\n",
    "                    right -= 1\n",
    "    \n",
    "    return result  \n",
    "\n",
    "## Example :\n",
    "nums = [1, 0, -1, 0, -2, 2]\n",
    "target = 0\n",
    "result = fourSum(nums, target)\n",
    "print(result)"
   ]
  },
  {
   "cell_type": "code",
   "execution_count": 3,
   "id": "522e021d-8a4e-464f-acf4-e43bcbdbe7b4",
   "metadata": {},
   "outputs": [
    {
     "name": "stdout",
     "output_type": "stream",
     "text": [
      "[1, 3, 2]\n",
      "[3, 1, 2]\n",
      "[1, 2, 3]\n"
     ]
    }
   ],
   "source": [
    "## No 3 :\n",
    "\n",
    "def next_permutation(nums):\n",
    "    \n",
    "    i = len(nums) - 2\n",
    "    while i >= 0 and nums[i] >= nums[i + 1]:\n",
    "        i -= 1\n",
    "\n",
    "    if i >= 0:\n",
    "        \n",
    "        j = len(nums) - 1\n",
    "        while nums[j] <= nums[i]:\n",
    "            j -= 1\n",
    "\n",
    "        \n",
    "        nums[i], nums[j] = nums[j], nums[i]\n",
    "\n",
    "    \n",
    "    left = i + 1\n",
    "    right = len(nums) - 1\n",
    "    while left < right:\n",
    "        nums[left], nums[right] = nums[right], nums[left]\n",
    "        left += 1\n",
    "        right -= 1\n",
    "\n",
    "##Example :\n",
    "nums = [1, 2, 3]\n",
    "next_permutation(nums)\n",
    "print(nums)  \n",
    "\n",
    "nums = [2, 3, 1]\n",
    "next_permutation(nums)\n",
    "print(nums)  \n",
    "\n",
    "nums = [3, 2, 1]\n",
    "next_permutation(nums)\n",
    "print(nums)  "
   ]
  },
  {
   "cell_type": "code",
   "execution_count": 4,
   "id": "bd2099e9-d174-47ce-a541-9e10297fbf2c",
   "metadata": {},
   "outputs": [
    {
     "name": "stdout",
     "output_type": "stream",
     "text": [
      "2\n",
      "1\n",
      "4\n",
      "0\n"
     ]
    }
   ],
   "source": [
    "## No 4 :\n",
    "\n",
    "def searchInsert(nums, target):\n",
    "    left = 0\n",
    "    right = len(nums) - 1\n",
    "\n",
    "    while left <= right:\n",
    "        mid = (left + right) // 2\n",
    "\n",
    "        if nums[mid] == target:\n",
    "            return mid\n",
    "        elif nums[mid] < target:\n",
    "            left = mid + 1\n",
    "        else:\n",
    "            right = mid - 1\n",
    "\n",
    "    \n",
    "    return left\n",
    "\n",
    "# Example :\n",
    "nums = [1, 3, 5, 6]\n",
    "target = 5\n",
    "print(searchInsert(nums, target))  \n",
    "\n",
    "target = 2\n",
    "print(searchInsert(nums, target))  \n",
    "\n",
    "target = 7\n",
    "print(searchInsert(nums, target))  \n",
    "\n",
    "target = 0\n",
    "print(searchInsert(nums, target))  "
   ]
  },
  {
   "cell_type": "code",
   "execution_count": 5,
   "id": "33dea266-7785-448e-8c34-fb729f72aa18",
   "metadata": {},
   "outputs": [
    {
     "name": "stdout",
     "output_type": "stream",
     "text": [
      "[1, 2, 4]\n",
      "[1, 0, 0, 0]\n",
      "[1]\n"
     ]
    }
   ],
   "source": [
    "## No 5 :\n",
    "\n",
    "def plusOne(digits):\n",
    "    n = len(digits)\n",
    "\n",
    "    for i in range(n - 1, -1, -1):\n",
    "        digits[i] += 1\n",
    "\n",
    "        if digits[i] < 10:\n",
    "            return digits\n",
    "        else:\n",
    "            digits[i] = 0\n",
    "\n",
    "    \n",
    "    return [1] + digits\n",
    "\n",
    "# Example :\n",
    "digits = [1, 2, 3]\n",
    "print(plusOne(digits))  \n",
    "\n",
    "digits = [9, 9, 9]\n",
    "print(plusOne(digits))  \n",
    "\n",
    "digits = [0]\n",
    "print(plusOne(digits))  "
   ]
  },
  {
   "cell_type": "code",
   "execution_count": 6,
   "id": "80743748-55e3-4100-813a-9891bf546bd3",
   "metadata": {},
   "outputs": [
    {
     "name": "stdout",
     "output_type": "stream",
     "text": [
      "1\n",
      "4\n"
     ]
    }
   ],
   "source": [
    "## No 6 :\n",
    "\n",
    "def singleNumber(nums):\n",
    "    result = 0\n",
    "    for num in nums:\n",
    "        result ^= num\n",
    "    return result\n",
    "\n",
    "# Example :\n",
    "nums = [2, 2, 1]\n",
    "print(singleNumber(nums))  \n",
    "\n",
    "nums = [4, 1, 2, 1, 2]\n",
    "print(singleNumber(nums))  "
   ]
  },
  {
   "cell_type": "code",
   "execution_count": 7,
   "id": "74e3576e-e29e-44ff-9800-305dff3e2820",
   "metadata": {},
   "outputs": [
    {
     "name": "stdout",
     "output_type": "stream",
     "text": [
      "['2', '4->49', '51->74', '76->99']\n",
      "['-3->-1']\n",
      "[]\n"
     ]
    }
   ],
   "source": [
    "## No 7 :\n",
    "\n",
    "def findMissingRanges(nums, lower, upper):\n",
    "    result = []\n",
    "    start = lower\n",
    "\n",
    "    for num in nums:\n",
    "        if num == start:\n",
    "            start += 1\n",
    "        elif num > start:\n",
    "            if num - 1 == start:\n",
    "                result.append(str(start))\n",
    "            else:\n",
    "                result.append(str(start) + \"->\" + str(num - 1))\n",
    "            start = num + 1\n",
    "\n",
    "    if start <= upper:\n",
    "        if start == upper:\n",
    "            result.append(str(start))\n",
    "        else:\n",
    "            result.append(str(start) + \"->\" + str(upper))\n",
    "\n",
    "    return result\n",
    "\n",
    "# Example :\n",
    "nums = [0, 1, 3, 50, 75]\n",
    "lower = 0\n",
    "upper = 99\n",
    "print(findMissingRanges(nums, lower, upper))\n",
    "\n",
    "nums = []\n",
    "lower = -3\n",
    "upper = -1\n",
    "print(findMissingRanges(nums, lower, upper))\n",
    "\n",
    "nums = [-1]\n",
    "lower = -1\n",
    "upper = -1\n",
    "print(findMissingRanges(nums, lower, upper))"
   ]
  },
  {
   "cell_type": "code",
   "execution_count": 8,
   "id": "d9c290ad-b86d-4a41-8bdb-5be481de45ce",
   "metadata": {},
   "outputs": [
    {
     "name": "stdout",
     "output_type": "stream",
     "text": [
      "False\n",
      "True\n"
     ]
    }
   ],
   "source": [
    "## No 8 :\n",
    "\n",
    "def canAttendMeetings(intervals):\n",
    "    \n",
    "    intervals.sort(key=lambda x: x[0])\n",
    "\n",
    "    \n",
    "    for i in range(1, len(intervals)):\n",
    "        if intervals[i][0] < intervals[i - 1][1]:\n",
    "            return False\n",
    "\n",
    "    return True\n",
    "\n",
    "# Example :\n",
    "intervals = [[0, 30], [5, 10], [15, 20]]\n",
    "print(canAttendMeetings(intervals))  \n",
    "\n",
    "intervals = [[7, 10], [2, 4]]\n",
    "print(canAttendMeetings(intervals))  \n"
   ]
  }
 ],
 "metadata": {
  "kernelspec": {
   "display_name": "Python 3 (ipykernel)",
   "language": "python",
   "name": "python3"
  },
  "language_info": {
   "codemirror_mode": {
    "name": "ipython",
    "version": 3
   },
   "file_extension": ".py",
   "mimetype": "text/x-python",
   "name": "python",
   "nbconvert_exporter": "python",
   "pygments_lexer": "ipython3",
   "version": "3.10.8"
  }
 },
 "nbformat": 4,
 "nbformat_minor": 5
}
