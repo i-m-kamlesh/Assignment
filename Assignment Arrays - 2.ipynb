{
 "cells": [
  {
   "cell_type": "code",
   "execution_count": null,
   "id": "a6e11c57-69ef-46d3-b958-29ef4b3a168d",
   "metadata": {},
   "outputs": [],
   "source": [
    "## No 1 :\n",
    "\n",
    "def arrayPairSum(nums):\n",
    "    nums.sort()  \n",
    "    \n",
    "    max_sum = 0\n",
    "    for i in range(0, len(nums), 2):\n",
    "        max_sum += nums[i]  \n",
    "    \n",
    "    return max_sum  \n",
    "\n",
    "\n",
    "nums = [1, 4, 3, 2]\n",
    "result = arrayPairSum(nums)\n",
    "print(result)"
   ]
  },
  {
   "cell_type": "code",
   "execution_count": 6,
   "id": "43c4e84f-e5c3-449f-8693-16ec9720e923",
   "metadata": {},
   "outputs": [],
   "source": [
    "## No 2 :\n",
    "\n",
    "def distributeCandies(candyType):\n",
    "    unique_candy_types = set(candyType)  \n",
    "    max_candy_types = min(len(unique_candy_types), len(candyType) // 2)  \n",
    "    return max_candy_types  "
   ]
  },
  {
   "cell_type": "code",
   "execution_count": 7,
   "id": "c2aaa388-e584-4d24-bc93-e1144ea0fd43",
   "metadata": {},
   "outputs": [
    {
     "name": "stdout",
     "output_type": "stream",
     "text": [
      "3\n"
     ]
    }
   ],
   "source": [
    "## No 2 :\n",
    "#Example :\n",
    "\n",
    "candyType = [1, 1, 2, 2, 3, 3]  \n",
    "result = distributeCandies(candyType)\n",
    "print(result)"
   ]
  },
  {
   "cell_type": "code",
   "execution_count": 8,
   "id": "3e9a2379-3ac5-433a-a1e4-fdcd32acc7fa",
   "metadata": {},
   "outputs": [
    {
     "name": "stdout",
     "output_type": "stream",
     "text": [
      "5\n"
     ]
    }
   ],
   "source": [
    "## No 3 :\n",
    "\n",
    "from collections import defaultdict\n",
    "\n",
    "def findLHS(nums):\n",
    "    freq_map = defaultdict(int)  \n",
    "    \n",
    "    # Step 2\n",
    "    for num in nums:\n",
    "        freq_map[num] += 1\n",
    "    \n",
    "    max_length = 0  \n",
    "    \n",
    "    \n",
    "    for key in freq_map:\n",
    "        if key + 1 in freq_map:\n",
    "            length = freq_map[key] + freq_map[key + 1]\n",
    "            max_length = max(max_length, length)\n",
    "    \n",
    "    return max_length  \n",
    "\n",
    "## Example :\n",
    "nums = [1, 3, 2, 2, 5, 2, 3, 7]  \n",
    "result = findLHS(nums)\n",
    "print(result)"
   ]
  },
  {
   "cell_type": "code",
   "execution_count": 9,
   "id": "166e9924-68ca-423d-8368-929c5591ed07",
   "metadata": {},
   "outputs": [
    {
     "name": "stdout",
     "output_type": "stream",
     "text": [
      "True\n"
     ]
    }
   ],
   "source": [
    "## No 4 :\n",
    "\n",
    "def canPlaceFlowers(flowerbed, n):\n",
    "    count = 0  \n",
    "    \n",
    "    for i in range(len(flowerbed)):  \n",
    "        if flowerbed[i] == 0 and (i == 0 or flowerbed[i - 1] == 0) and (i == len(flowerbed) - 1 or flowerbed[i + 1] == 0):\n",
    "            flowerbed[i] = 1\n",
    "            count += 1\n",
    "            if count == n:\n",
    "                return True\n",
    "    \n",
    "    return count >= n  \n",
    "\n",
    "## Example :\n",
    "flowerbed = [1, 0, 0, 0, 1]\n",
    "n = 1\n",
    "result = canPlaceFlowers(flowerbed, n)\n",
    "print(result)"
   ]
  },
  {
   "cell_type": "code",
   "execution_count": 11,
   "id": "4b037755-4ca9-4efe-89f6-81ce9ba25238",
   "metadata": {},
   "outputs": [
    {
     "name": "stdout",
     "output_type": "stream",
     "text": [
      "6\n"
     ]
    }
   ],
   "source": [
    "## No 5 :\n",
    "\n",
    "def maximumProduct(nums):\n",
    "    nums.sort()  \n",
    "\n",
    "    \n",
    "    prod1 = nums[-1] * nums[-2] * nums[-3]\n",
    "    \n",
    "    prod2 = nums[0] * nums[1] * nums[-1]\n",
    "    \n",
    "    return max(prod1, prod2)\n",
    "\n",
    "## Example :\n",
    "nums = [1, 2, 3]\n",
    "result = maximumProduct(nums)\n",
    "print(result)"
   ]
  },
  {
   "cell_type": "code",
   "execution_count": 12,
   "id": "41c3d6dd-4198-4a04-aecc-1594ae678696",
   "metadata": {},
   "outputs": [
    {
     "name": "stdout",
     "output_type": "stream",
     "text": [
      "4\n"
     ]
    }
   ],
   "source": [
    "## No 6 :\n",
    "\n",
    "def search(nums, target):\n",
    "    left, right = 0, len(nums) - 1  \n",
    "    \n",
    "    while left <= right:  \n",
    "        mid = (left + right) // 2\n",
    "        \n",
    "        if nums[mid] == target:\n",
    "            return mid\n",
    "        \n",
    "        if nums[mid] > target:\n",
    "            right = mid - 1\n",
    "        else:\n",
    "            left = mid + 1\n",
    "    \n",
    "    return -1  \n",
    "\n",
    "## Example :\n",
    "nums = [-1, 0, 3, 5, 9, 12]\n",
    "target = 9\n",
    "result = search(nums, target)\n",
    "print(result)"
   ]
  },
  {
   "cell_type": "code",
   "execution_count": 13,
   "id": "05bbe6e3-9d53-4583-b4ab-4513aa5c0cc0",
   "metadata": {},
   "outputs": [
    {
     "name": "stdout",
     "output_type": "stream",
     "text": [
      "True\n"
     ]
    }
   ],
   "source": [
    "## No 7 :\n",
    "\n",
    "def isMonotonic(nums):\n",
    "    isIncreasing = True\n",
    "    isDecreasing = True\n",
    "    \n",
    "    for i in range(1, len(nums)):\n",
    "        if nums[i] < nums[i - 1]:\n",
    "            isIncreasing = False\n",
    "        if nums[i] > nums[i - 1]:\n",
    "            isDecreasing = False\n",
    "        if not isIncreasing and not isDecreasing:\n",
    "            break\n",
    "    \n",
    "    return isIncreasing or isDecreasing\n",
    "\n",
    "## Example :\n",
    "nums = [1, 2, 3, 4, 5]\n",
    "result = isMonotonic(nums)\n",
    "print(result)"
   ]
  },
  {
   "cell_type": "code",
   "execution_count": 14,
   "id": "266fa47f-8d50-42af-b28c-a65440f9ebcf",
   "metadata": {},
   "outputs": [
    {
     "name": "stdout",
     "output_type": "stream",
     "text": [
      "0\n"
     ]
    }
   ],
   "source": [
    "## No 8 :\n",
    "\n",
    "def minimumScore(nums, k):\n",
    "    min_num = float('inf')\n",
    "    max_num = float('-inf')\n",
    "      \n",
    "    for num in nums:\n",
    "        min_num = min(min_num, num)\n",
    "        max_num = max(max_num, num)\n",
    "    \n",
    "    min_score = float('inf')  \n",
    "       \n",
    "    for num in nums:\n",
    "        score = (max_num - k) - (min_num + k)\n",
    "        min_score = min(min_score, score)\n",
    "    \n",
    "    return min_score  \n",
    "\n",
    "## Example :\n",
    "nums = [1, 3, 5]\n",
    "k = 2\n",
    "result = minimumScore(nums, k)\n",
    "print(result)"
   ]
  },
  {
   "cell_type": "code",
   "execution_count": null,
   "id": "5574da13-48d0-4523-92f1-5ca4f7bdf927",
   "metadata": {},
   "outputs": [],
   "source": []
  },
  {
   "cell_type": "code",
   "execution_count": null,
   "id": "0870b324-e089-4578-b7fc-f37244265591",
   "metadata": {},
   "outputs": [],
   "source": []
  }
 ],
 "metadata": {
  "kernelspec": {
   "display_name": "Python 3 (ipykernel)",
   "language": "python",
   "name": "python3"
  },
  "language_info": {
   "codemirror_mode": {
    "name": "ipython",
    "version": 3
   },
   "file_extension": ".py",
   "mimetype": "text/x-python",
   "name": "python",
   "nbconvert_exporter": "python",
   "pygments_lexer": "ipython3",
   "version": "3.10.8"
  }
 },
 "nbformat": 4,
 "nbformat_minor": 5
}
