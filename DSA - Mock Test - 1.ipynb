{
 "cells": [
  {
   "cell_type": "code",
   "execution_count": 1,
   "id": "675547bc-7b87-468b-8f43-c733abcd85cc",
   "metadata": {},
   "outputs": [
    {
     "name": "stdout",
     "output_type": "stream",
     "text": [
      "0\n"
     ]
    }
   ],
   "source": [
    "def firstUniqChar(s):\n",
    "    charCount = {}\n",
    "\n",
    "    \n",
    "    for char in s:\n",
    "        charCount[char] = charCount.get(char, 0) + 1\n",
    "\n",
    "    \n",
    "    for i in range(len(s)):\n",
    "        if charCount[s[i]] == 1:\n",
    "            return i\n",
    "\n",
    "    return -1\n",
    "\n",
    "\n",
    "s = \"leetcode\"\n",
    "print(firstUniqChar(s))\n"
   ]
  },
  {
   "cell_type": "code",
   "execution_count": 2,
   "id": "498d94a2-1b83-4b59-bdbe-897c3e8ddd18",
   "metadata": {},
   "outputs": [
    {
     "name": "stdout",
     "output_type": "stream",
     "text": [
      "2\n"
     ]
    }
   ],
   "source": [
    "def firstUniqChar(s):\n",
    "    charCount = {}\n",
    "\n",
    "    \n",
    "    for char in s:\n",
    "        charCount[char] = charCount.get(char, 0) + 1\n",
    "\n",
    "    \n",
    "    for i in range(len(s)):\n",
    "        if charCount[s[i]] == 1:\n",
    "            return i\n",
    "\n",
    "    return -1\n",
    "\n",
    "\n",
    "s = \"loveleetcode\"\n",
    "print(firstUniqChar(s))"
   ]
  },
  {
   "cell_type": "code",
   "execution_count": 3,
   "id": "d3197c79-dcc5-49ff-98d6-63a8b21a732e",
   "metadata": {},
   "outputs": [
    {
     "name": "stdout",
     "output_type": "stream",
     "text": [
      "-1\n"
     ]
    }
   ],
   "source": [
    "def firstUniqChar(s):\n",
    "    charCount = {}\n",
    "\n",
    "    \n",
    "    for char in s:\n",
    "        charCount[char] = charCount.get(char, 0) + 1\n",
    "\n",
    "    \n",
    "    for i in range(len(s)):\n",
    "        if charCount[s[i]] == 1:\n",
    "            return i\n",
    "\n",
    "    return -1\n",
    "\n",
    "\n",
    "s = \"aabb\"\n",
    "print(firstUniqChar(s))"
   ]
  }
 ],
 "metadata": {
  "kernelspec": {
   "display_name": "Python 3 (ipykernel)",
   "language": "python",
   "name": "python3"
  },
  "language_info": {
   "codemirror_mode": {
    "name": "ipython",
    "version": 3
   },
   "file_extension": ".py",
   "mimetype": "text/x-python",
   "name": "python",
   "nbconvert_exporter": "python",
   "pygments_lexer": "ipython3",
   "version": "3.10.8"
  }
 },
 "nbformat": 4,
 "nbformat_minor": 5
}
