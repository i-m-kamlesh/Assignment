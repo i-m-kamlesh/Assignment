{
 "cells": [
  {
   "cell_type": "code",
   "execution_count": 2,
   "id": "798928e3-6846-495f-b141-909adbca00e5",
   "metadata": {},
   "outputs": [],
   "source": [
    "# Q 1 :- An exception in Python is an event that occurs during the execution of a program that disrupts the normal flow of the program's instructions. When a Python script encounters a situation it cannot handle, it raises an exception.\n",
    "        #Difference between exceptions and syntax errors:-\n",
    "    #Exceptions :- Errors that occur during the execution of a program. These are usually problems that occur because of incorrect logic, missing resources, or other runtime conditions.\n",
    "    #Syntax :- Errors that occur when the Python parser is unable to understand a line of code because it does not conform to the syntax rules of the Python language.\n",
    "             \n",
    "           # Exceptions errors Occur at runtime, after the program has started running, while Syntax errors Occur at compile-time, before the program starts running, when the Python interpreter parses the code."
   ]
  },
  {
   "cell_type": "code",
   "execution_count": 5,
   "id": "ea082d19-94e5-4d7a-b25e-27ff45c9a587",
   "metadata": {},
   "outputs": [
    {
     "ename": "IndentationError",
     "evalue": "expected an indented block after function definition on line 5 (2794007975.py, line 6)",
     "output_type": "error",
     "traceback": [
      "\u001b[0;36m  Cell \u001b[0;32mIn[5], line 6\u001b[0;36m\u001b[0m\n\u001b[0;31m    return a / b\u001b[0m\n\u001b[0m    ^\u001b[0m\n\u001b[0;31mIndentationError\u001b[0m\u001b[0;31m:\u001b[0m expected an indented block after function definition on line 5\n"
     ]
    }
   ],
   "source": [
    "#Q 2 :- When an exception is not handled in Python, it propagates up the call stack, and if it remains unhandled, it causes the program to terminate. Upon termination, Python prints a traceback message, which includes details about the exception, such as its type, the line of code where it occurred, and the call stack leading to the exception. This traceback helps in debugging by indicating where and why the error occurred.\n",
    "\n",
    "      #Example of Unhandled Exception :- \n",
    "    \n",
    "def divide(a, b):\n",
    "return a / b\n",
    "\n",
    "result = divide(10, 0)\n",
    "print(\"Result is:\", result)\n"
   ]
  },
  {
   "cell_type": "code",
   "execution_count": 6,
   "id": "8005cb88-9ce4-4e03-9bcc-f45924e6f1ab",
   "metadata": {},
   "outputs": [
    {
     "name": "stdout",
     "output_type": "stream",
     "text": [
      "Error: Cannot divide by zero.\n",
      "Division failed.\n"
     ]
    }
   ],
   "source": [
    "#Q 2 :- Example of Handling the Exception\n",
    "\n",
    "def divide(a, b):\n",
    "    try:\n",
    "        return a / b\n",
    "    except ZeroDivisionError:\n",
    "        print(\"Error: Cannot divide by zero.\")\n",
    "        return None\n",
    "\n",
    "result = divide(10, 0)\n",
    "if result is not None:\n",
    "    print(\"Result is:\", result)\n",
    "else:\n",
    "    print(\"Division failed.\")\n"
   ]
  },
  {
   "cell_type": "code",
   "execution_count": 15,
   "id": "8acf506d-4355-4788-b1c0-b8b2f20feb6c",
   "metadata": {},
   "outputs": [
    {
     "ename": "IndentationError",
     "evalue": "unindent does not match any outer indentation level (<tokenize>, line 6)",
     "output_type": "error",
     "traceback": [
      "\u001b[0;36m  File \u001b[0;32m<tokenize>:6\u001b[0;36m\u001b[0m\n\u001b[0;31m    open(\"myfile.txt\", \"w\")\u001b[0m\n\u001b[0m    ^\u001b[0m\n\u001b[0;31mIndentationError\u001b[0m\u001b[0;31m:\u001b[0m unindent does not match any outer indentation level\n"
     ]
    }
   ],
   "source": [
    "#Q 3 :- In Python, the try and except statements are used to catch and handle exceptions. These statements allow you to run code that might raise an exception and specify how to handle different types of exceptions if they occur.\n",
    "    \n",
    "    #Example\n",
    "    try:\n",
    "  # This code block may cause an error.\n",
    "  open(\"myfile.txt\", \"w\")\n",
    "except IOError:\n",
    "  # This code block will be executed if an error occurs.\n",
    "  print(\"The file could not be opened.\")"
   ]
  },
  {
   "cell_type": "code",
   "execution_count": 17,
   "id": "c45f04f5-68fd-40e7-9ea3-3035b1fa6a11",
   "metadata": {},
   "outputs": [
    {
     "name": "stdout",
     "output_type": "stream",
     "text": [
      "FileNotFoundError: The file 'example.txt' was not found. [Errno 2] No such file or directory: 'example.txt'\n",
      "Finished processing the file.\n"
     ]
    }
   ],
   "source": [
    "# 'Try' and 'Else'\n",
    "#Q 4 :- The else block in Python's exception handling structure is executed only if the try block does not raise an exception. This can be useful for separating the main logic from the exception handling logic and ensuring that certain code only runs if everything in the try block succeeds.\n",
    "        #Example:-\n",
    "\n",
    "def read_file(file_path):\n",
    "    try:\n",
    "        # Attempt to open and read the file\n",
    "        with open(file_path, 'r') as file:\n",
    "            content = file.read()\n",
    "    \n",
    "    except FileNotFoundError as fnf_error:\n",
    "        # Handle the case where the file is not found\n",
    "        print(f\"FileNotFoundError: The file '{file_path}' was not found. {fnf_error}\")\n",
    "    \n",
    "    except IOError as io_error:\n",
    "        # Handle other I/O errors\n",
    "        print(f\"IOError: An I/O error occurred. {io_error}\")\n",
    "    \n",
    "    else:\n",
    "        # This block runs only if no exceptions were raised in the try block\n",
    "        print(\"File read successfully!\")\n",
    "        print(\"Content of the file:\")\n",
    "        print(content)\n",
    "    \n",
    "    finally:\n",
    "        # This block always executes, whether an exception occurred or not\n",
    "        print(\"Finished processing the file.\")\n",
    "\n",
    "# Example usage\n",
    "file_path = 'example.txt'\n",
    "read_file(file_path)\n"
   ]
  },
  {
   "cell_type": "code",
   "execution_count": 18,
   "id": "bda5e9fc-bbd6-40f8-96b1-5763b201956a",
   "metadata": {},
   "outputs": [
    {
     "name": "stdout",
     "output_type": "stream",
     "text": [
      "FileNotFoundError: The file 'example.txt' does not exist. [Errno 2] No such file or directory: 'example.txt'\n",
      "File was never opened, so no need to close it.\n",
      "FileNotFoundError: The file 'non_existent_file.txt' does not exist. [Errno 2] No such file or directory: 'non_existent_file.txt'\n",
      "File was never opened, so no need to close it.\n"
     ]
    }
   ],
   "source": [
    "#Q 4 :- 'Finally'\n",
    "  # The finally block in Python is used to define a segment of code that will be executed regardless of whether an exception was raised or not. This is particularly useful for releasing resources or performing cleanup actions that must be executed under all circumstances.\n",
    "    \n",
    "    #Example :- \n",
    "\n",
    "def read_file(file_path):\n",
    "    try:\n",
    "        # Attempt to open and read the file\n",
    "        file = open(file_path, 'r')\n",
    "        data = file.read()\n",
    "        print(\"File content:\")\n",
    "        print(data)\n",
    "    except FileNotFoundError as fnf_error:\n",
    "        # Handle the case where the file does not exist\n",
    "        print(f\"FileNotFoundError: The file '{file_path}' does not exist. {fnf_error}\")\n",
    "    except Exception as e:\n",
    "        # Handle any other exceptions that might occur\n",
    "        print(f\"An error occurred: {e}\")\n",
    "    finally:\n",
    "        # This block always executes, closing the file if it was opened\n",
    "        try:\n",
    "            file.close()\n",
    "            print(\"File has been closed.\")\n",
    "        except NameError:\n",
    "            # Handle the case where the file variable was never defined\n",
    "            print(\"File was never opened, so no need to close it.\")\n",
    "        except Exception as e:\n",
    "            # Handle any other exceptions that might occur during file close\n",
    "            print(f\"An error occurred while closing the file: {e}\")\n",
    "\n",
    "# Call the function with a valid file path\n",
    "read_file('example.txt')\n",
    "\n",
    "# Call the function with an invalid file path\n",
    "read_file('non_existent_file.txt')\n"
   ]
  },
  {
   "cell_type": "code",
   "execution_count": 19,
   "id": "ca776603-ca8a-46fe-9b6c-0645f8cf25fe",
   "metadata": {},
   "outputs": [
    {
     "name": "stdout",
     "output_type": "stream",
     "text": [
      "Error: Cannot compute the square root of a negative number.\n",
      "Execution of compute_square_root completed.\n",
      "Execution of compute_square_root completed.\n"
     ]
    },
    {
     "data": {
      "text/plain": [
       "5.0"
      ]
     },
     "execution_count": 19,
     "metadata": {},
     "output_type": "execute_result"
    }
   ],
   "source": [
    "#Q 4 :- Raise :-\n",
    "    # The 'raise' statement is used to explicitly trigger an exception. This can be useful for indicating errors in a controlled manner or for custom error handling within your code.\n",
    "    \n",
    "    #Example :- \n",
    "    \n",
    "import math\n",
    "\n",
    "class NegativeNumberError(Exception):\n",
    "    \"\"\"Custom exception for handling negative numbers.\"\"\"\n",
    "    def __init__(self, number, message=\"Cannot compute the square root of a negative number.\"):\n",
    "        self.number = number\n",
    "        self.message = message\n",
    "        super().__init__(self.message)\n",
    "\n",
    "def compute_square_root(number):\n",
    "    try:\n",
    "        if number < 0:\n",
    "            # Raise the custom exception for negative numbers\n",
    "            raise NegativeNumberError(number)\n",
    "        return math.sqrt(number)\n",
    "    except NegativeNumberError as nne:\n",
    "        print(f\"Error: {nne}\")\n",
    "    except Exception as e:\n",
    "        print(f\"An unexpected error occurred: {e}\")\n",
    "    else:\n",
    "        print(f\"The square root of {number} is {result}\")\n",
    "    finally:\n",
    "        print(\"Execution of compute_square_root completed.\")\n",
    "\n",
    "# Test the function with a negative number\n",
    "compute_square_root(-25)\n",
    "\n",
    "# Test the function with a valid number\n",
    "compute_square_root(25)\n"
   ]
  },
  {
   "cell_type": "code",
   "execution_count": 20,
   "id": "cf388fa3-fb12-4f62-a9d0-fcda90f251fc",
   "metadata": {},
   "outputs": [
    {
     "name": "stdout",
     "output_type": "stream",
     "text": [
      "Current balance: 1000\n",
      "Error: Attempted to withdraw 1500, but the balance is only 1000.\n",
      "Transaction attempt finished.\n"
     ]
    }
   ],
   "source": [
    "# Q 5 :- Custom exceptions in Python are user-defined exceptions that you create by defining new exception classes. These classes usually inherit from Python's built-in Exception class. Custom exceptions are useful when you want to handle specific situations or errors that are not covered by the built-in exceptions, allowing you to provide more meaningful error messages and better control over error handling in your code.\n",
    "  # The reason we need custom exceptions :- \n",
    "        # (a) Specificity: Custom exceptions allow you to distinguish between different error conditions more precisely.\n",
    "        # (b) Readability: They make your code more readable and maintainable by providing descriptive names for error conditions.\n",
    "        # (c) Control: They give you finer control over the error handling process, allowing you to catch and handle specific errors in different ways.\n",
    "        # (d) Extensibility: They allow you to build a hierarchy of exceptions that can model complex error conditions in your application.\n",
    "        \n",
    " # For example :- \n",
    "\n",
    "class BankingError(Exception):\n",
    "    \"\"\"Base class for other banking-related exceptions\"\"\"\n",
    "    pass\n",
    "\n",
    "class InsufficientFundsError(BankingError):\n",
    "    \"\"\"Raised when an account has insufficient funds for a transaction\"\"\"\n",
    "    def __init__(self, balance, amount):\n",
    "        self.balance = balance\n",
    "        self.amount = amount\n",
    "        self.message = f\"Attempted to withdraw {self.amount}, but the balance is only {self.balance}.\"\n",
    "        super().__init__(self.message)\n",
    "\n",
    "class ExceedWithdrawalLimitError(BankingError):\n",
    "    \"\"\"Raised when a withdrawal amount exceeds the allowed limit\"\"\"\n",
    "    def __init__(self, limit, amount):\n",
    "        self.limit = limit\n",
    "        self.amount = amount\n",
    "        self.message = f\"Attempted to withdraw {self.amount}, but the limit is {self.limit}.\"\n",
    "        super().__init__(self.message)\n",
    "\n",
    "class InvalidAccountError(BankingError):\n",
    "    \"\"\"Raised when an operation is attempted on an invalid account\"\"\"\n",
    "    def __init__(self, account_id):\n",
    "        self.account_id = account_id\n",
    "        self.message = f\"Account with ID {self.account_id} is invalid.\"\n",
    "        super().__init__(self.message)\n",
    "\n",
    "class BankAccount:\n",
    "    def __init__(self, account_id, balance, withdrawal_limit):\n",
    "        self.account_id = account_id\n",
    "        self.balance = balance\n",
    "        self.withdrawal_limit = withdrawal_limit\n",
    "\n",
    "    def withdraw(self, amount):\n",
    "        if amount > self.balance:\n",
    "            raise InsufficientFundsError(self.balance, amount)\n",
    "        if amount > self.withdrawal_limit:\n",
    "            raise ExceedWithdrawalLimitError(self.withdrawal_limit, amount)\n",
    "        self.balance -= amount\n",
    "        return self.balance\n",
    "\n",
    "# Example usage\n",
    "try:\n",
    "    account = BankAccount(\"123456\", 1000, 500)\n",
    "    print(f\"Current balance: {account.balance}\")\n",
    "    \n",
    "    # Trying to withdraw an amount exceeding the balance\n",
    "    account.withdraw(1500)\n",
    "    \n",
    "except InsufficientFundsError as ife:\n",
    "    print(f\"Error: {ife}\")\n",
    "\n",
    "except ExceedWithdrawalLimitError as ewle:\n",
    "    print(f\"Error: {ewle}\")\n",
    "\n",
    "except InvalidAccountError as iae:\n",
    "    print(f\"Error: {iae}\")\n",
    "\n",
    "except BankingError as be:\n",
    "    print(f\"General banking error: {be}\")\n",
    "\n",
    "finally:\n",
    "    print(\"Transaction attempt finished.\")\n"
   ]
  },
  {
   "cell_type": "code",
   "execution_count": 21,
   "id": "2cf62873-20d1-4f49-a9a2-3ed95193f269",
   "metadata": {},
   "outputs": [
    {
     "name": "stdout",
     "output_type": "stream",
     "text": [
      "Custom exception caught: Input value cannot be negative.\n"
     ]
    }
   ],
   "source": [
    "# Q 6 :-\n",
    "\n",
    "class CustomException(Exception):\n",
    "    \"\"\"Custom exception class.\"\"\"\n",
    "    def __init__(self, message=\"This is a custom exception.\"):\n",
    "        self.message = message\n",
    "        super().__init__(self.message)\n",
    "\n",
    "def example_function(x):\n",
    "    if x < 0:\n",
    "        raise CustomException(\"Input value cannot be negative.\")\n",
    "\n",
    "try:\n",
    "    # Test the function with a negative value\n",
    "    example_function(-5)\n",
    "except CustomException as ce:\n",
    "    print(f\"Custom exception caught: {ce.message}\")\n",
    "\n",
    "# CustomException is a custom exception class derived from Python's built-in Exception class. It has an optional message parameter, which defaults to \"This is a custom exception.\"\n",
    "# Example function checks if the input value is negative. If it is, it raises a CustomException with a custom error message.\n",
    "# Exception Handling:- The function call example_function(-5) is wrapped in a try block. If a CustomException is raised, it is caught in the except CustomException as ce block. The error message of the caught exception (ce.message) is printed to the console."
   ]
  }
 ],
 "metadata": {
  "kernelspec": {
   "display_name": "Python 3 (ipykernel)",
   "language": "python",
   "name": "python3"
  },
  "language_info": {
   "codemirror_mode": {
    "name": "ipython",
    "version": 3
   },
   "file_extension": ".py",
   "mimetype": "text/x-python",
   "name": "python",
   "nbconvert_exporter": "python",
   "pygments_lexer": "ipython3",
   "version": "3.10.8"
  }
 },
 "nbformat": 4,
 "nbformat_minor": 5
}
