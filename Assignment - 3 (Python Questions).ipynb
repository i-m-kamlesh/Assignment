{
 "cells": [
  {
   "cell_type": "code",
   "execution_count": 1,
   "id": "04f03c22-aa92-4105-a040-be7cb91e4fab",
   "metadata": {},
   "outputs": [],
   "source": [
    "## No. 1 :- The def keyword is used to create a functions.\n",
    "\n",
    "def get_odd_numbers():\n",
    "    odd_numbers = []\n",
    "    for num in range(1, 26):\n",
    "        if num % 2 != 0:\n",
    "            odd_numbers.append(num)\n",
    "    return odd_numbers\n"
   ]
  },
  {
   "cell_type": "code",
   "execution_count": 2,
   "id": "2eb0d5b7-e226-4f5f-9e5f-f62c10566ed6",
   "metadata": {},
   "outputs": [
    {
     "name": "stdout",
     "output_type": "stream",
     "text": [
      "[1, 3, 5, 7, 9, 11, 13, 15, 17, 19, 21, 23, 25]\n"
     ]
    }
   ],
   "source": [
    "odd_numbers_list = get_odd_numbers()\n",
    "print(odd_numbers_list)"
   ]
  },
  {
   "cell_type": "code",
   "execution_count": 3,
   "id": "baa3d9dc-30c5-4084-a87f-232b10e524d2",
   "metadata": {},
   "outputs": [],
   "source": [
    "## No. 2 :- we can use *args and **kwargs as arguments of a function when we are unsure about the number of arguments to pass in the functions.\n",
    "\n",
    "def test1(*args):\n",
    "    return(args)"
   ]
  },
  {
   "cell_type": "code",
   "execution_count": 4,
   "id": "186b2949-3705-468b-865c-d8db3eb0b379",
   "metadata": {},
   "outputs": [
    {
     "data": {
      "text/plain": [
       "(1, 2, 3, [1, 2, 'Pwskills'])"
      ]
     },
     "execution_count": 4,
     "metadata": {},
     "output_type": "execute_result"
    }
   ],
   "source": [
    "test1(1,2,3,[1,2,\"Pwskills\"])"
   ]
  },
  {
   "cell_type": "code",
   "execution_count": 7,
   "id": "03e9b6dd-e04f-41ca-b24a-2dfd12a7210b",
   "metadata": {},
   "outputs": [],
   "source": [
    "def test2(**kwargs) :\n",
    "    for i in kwargs.keys():\n",
    "        if type(kwargs[i]) == list :\n",
    "            return i , kwargs[i]"
   ]
  },
  {
   "cell_type": "code",
   "execution_count": 8,
   "id": "2cf89e8b-23a0-4107-a76d-c15ab06cea84",
   "metadata": {},
   "outputs": [
    {
     "data": {
      "text/plain": [
       "('c', [1, 2, 3, 4, 5])"
      ]
     },
     "execution_count": 8,
     "metadata": {},
     "output_type": "execute_result"
    }
   ],
   "source": [
    "test2(a = 34, b = 25, c = [1,2,3,4,5], d = (\"sudh\" , \"Pwskills\"))"
   ]
  },
  {
   "cell_type": "code",
   "execution_count": 13,
   "id": "e6d7b3d8-d306-4ac1-beef-3ae66981f6f8",
   "metadata": {},
   "outputs": [
    {
     "name": "stdout",
     "output_type": "stream",
     "text": [
      "2\n",
      "4\n",
      "6\n",
      "8\n",
      "10\n"
     ]
    }
   ],
   "source": [
    "## No.3 :- In Python, an iterator is an object that allows you to iterate over collections of data, such as lists, tuples, dictionaries, and sets.\n",
    "# The iter() method is used to initialize the iterator. This returns an iterator object.\n",
    "\n",
    "numbers = [2, 4, 6, 8, 10, 12, 14, 16, 18, 20]\n",
    "first_five = islice(numbers, 5)\n",
    "\n",
    "for num in first_five:\n",
    "    print(num)\n",
    "\n"
   ]
  },
  {
   "cell_type": "code",
   "execution_count": 14,
   "id": "4196b0c6-9e9f-4aae-82c2-318a0618db16",
   "metadata": {},
   "outputs": [],
   "source": [
    "## No.4 :- A Python generator function allows us to declare a function that behaves like an iterator, providing a faster and easier way to create iterators. They can be used on an abstract container of data to turn it into an iterable object like lists, dictionaries and strings.\n",
    "# The yield keyword convert an expression that is specified along with it to a generator object and return it to the caller.\n",
    "\n",
    "#Lets suppose we have taken a list\n",
    "l = [1,2,3,4,5,6,7,8,9, \"sudh\", \"Pwskills\"]\n"
   ]
  },
  {
   "cell_type": "code",
   "execution_count": 15,
   "id": "b9a5dbb3-edd2-4cd6-b570-b8f1dd68cd4b",
   "metadata": {},
   "outputs": [],
   "source": [
    "def test1(a):\n",
    "    n = []\n",
    "    for i in a :\n",
    "        if type(i) == int :\n",
    "            n.append(i)\n",
    "    return(n)"
   ]
  },
  {
   "cell_type": "code",
   "execution_count": 16,
   "id": "78f7e46b-2c43-4b33-9f57-a5d680f2bbfd",
   "metadata": {},
   "outputs": [
    {
     "data": {
      "text/plain": [
       "[1, 2, 3, 4, 5, 6, 7, 8, 9]"
      ]
     },
     "execution_count": 16,
     "metadata": {},
     "output_type": "execute_result"
    }
   ],
   "source": [
    "test1(l)"
   ]
  },
  {
   "cell_type": "code",
   "execution_count": 17,
   "id": "14fb7107-6158-4c37-b10c-d57de8c4865a",
   "metadata": {},
   "outputs": [],
   "source": [
    "## No.5 :-\n",
    "\n",
    "def generate_primes():\n",
    "    primes = []\n",
    "    num = 2\n",
    "    while num < 1000:\n",
    "        is_prime = True\n",
    "        for prime in primes:\n",
    "            if num % prime == 0:\n",
    "                is_prime = False\n",
    "                break\n",
    "        if is_prime:\n",
    "            primes.append(num)\n",
    "            yield num\n",
    "        num += 1\n",
    "\n",
    "prime_generator = generate_primes()"
   ]
  },
  {
   "cell_type": "code",
   "execution_count": 18,
   "id": "cb160d2d-d3bf-4fc7-98cb-c248b8798ea1",
   "metadata": {},
   "outputs": [
    {
     "name": "stdout",
     "output_type": "stream",
     "text": [
      "2\n",
      "3\n",
      "5\n",
      "7\n",
      "11\n",
      "13\n",
      "17\n",
      "19\n",
      "23\n",
      "29\n",
      "31\n",
      "37\n",
      "41\n",
      "43\n",
      "47\n",
      "53\n",
      "59\n",
      "61\n",
      "67\n",
      "71\n"
     ]
    }
   ],
   "source": [
    "for _ in range(20):\n",
    "    prime = next(prime_generator)\n",
    "    print(prime)\n"
   ]
  },
  {
   "cell_type": "code",
   "execution_count": null,
   "id": "5f8c3d85-873a-4c1a-aa34-03a091d99d94",
   "metadata": {},
   "outputs": [],
   "source": []
  }
 ],
 "metadata": {
  "kernelspec": {
   "display_name": "Python 3 (ipykernel)",
   "language": "python",
   "name": "python3"
  },
  "language_info": {
   "codemirror_mode": {
    "name": "ipython",
    "version": 3
   },
   "file_extension": ".py",
   "mimetype": "text/x-python",
   "name": "python",
   "nbconvert_exporter": "python",
   "pygments_lexer": "ipython3",
   "version": "3.10.8"
  }
 },
 "nbformat": 4,
 "nbformat_minor": 5
}
