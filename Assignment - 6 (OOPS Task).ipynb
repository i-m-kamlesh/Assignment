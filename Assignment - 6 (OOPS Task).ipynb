{
 "cells": [
  {
   "cell_type": "code",
   "execution_count": 1,
   "id": "7d7030ef-49a8-4800-8010-1683af073f40",
   "metadata": {},
   "outputs": [],
   "source": [
    "## No.1 :-\n",
    "\n",
    "class Vehicle:\n",
    "    def __init__(self, name_of_vehicle, max_speed, average_of_vehicle):\n",
    "        self.name_of_vehicle = name_of_vehicle\n",
    "        self.max_speed = max_speed\n",
    "        self.average_of_vehicle = average_of_vehicle"
   ]
  },
  {
   "cell_type": "code",
   "execution_count": 2,
   "id": "23b4bdbe-3b1c-4d69-a375-10838b986774",
   "metadata": {},
   "outputs": [
    {
     "name": "stdout",
     "output_type": "stream",
     "text": [
      "Hyndai Creta Model H\n",
      "200\n",
      "30\n"
     ]
    }
   ],
   "source": [
    "car = Vehicle(\"Hyndai Creta Model H\", 200, 30)\n",
    "print(car.name_of_vehicle)       \n",
    "print(car.max_speed)              \n",
    "print(car.average_of_vehicle)    "
   ]
  },
  {
   "cell_type": "code",
   "execution_count": 3,
   "id": "9d5f9dc9-153b-4520-b7c2-9184c2eba44f",
   "metadata": {},
   "outputs": [
    {
     "name": "stdout",
     "output_type": "stream",
     "text": [
      "The Hyndai Creta Model H has a seating capacity of 5.\n"
     ]
    }
   ],
   "source": [
    "## No.2 :-\n",
    "\n",
    "class Car(Vehicle):\n",
    "    def seating_capacity(self, capacity):\n",
    "        return f\"The {self.name_of_vehicle} has a seating capacity of {capacity}.\"\n",
    "\n",
    "car = Car(\"Hyndai Creta Model H\", 200, 30)\n",
    "\n",
    "print(car.seating_capacity(5))"
   ]
  },
  {
   "cell_type": "code",
   "execution_count": 4,
   "id": "f3a7a1e1-ce87-4dcc-b164-2e6663ffa8f3",
   "metadata": {},
   "outputs": [
    {
     "name": "stdout",
     "output_type": "stream",
     "text": [
      "Robo is eating.\n",
      "Robo is sleeping.\n",
      "Driving the Toyota vehicle.\n",
      "The Toyota robot named Robo is talking.\n",
      "The Toyota robot named Robo is moving.\n"
     ]
    }
   ],
   "source": [
    "## No.3 :-\n",
    "\n",
    "# Multipliple Inheritance = If a child class inherits from more than one class, i.e. this child class is derived from multiple classes, we call it multiple inheritance in Python.\n",
    "\n",
    "# Example :-\n",
    "\n",
    "class Animal:\n",
    "    def __init__(self, name):\n",
    "        self.name = name\n",
    "\n",
    "    def eat(self):\n",
    "        print(f\"{self.name} is eating.\")\n",
    "\n",
    "    def sleep(self):\n",
    "        print(f\"{self.name} is sleeping.\")\n",
    "\n",
    "        \n",
    "class Vehicle:\n",
    "    def __init__(self, brand):\n",
    "        self.brand = brand\n",
    "\n",
    "    def drive(self):\n",
    "        print(f\"Driving the {self.brand} vehicle.\")\n",
    "\n",
    "\n",
    "class Robot(Animal, Vehicle):\n",
    "    def __init__(self, name, brand):\n",
    "        Animal.__init__(self, name)\n",
    "        Vehicle.__init__(self, brand)\n",
    "\n",
    "    def talk(self):\n",
    "        print(f\"The {self.brand} robot named {self.name} is talking.\")\n",
    "\n",
    "    def move(self):\n",
    "        print(f\"The {self.brand} robot named {self.name} is moving.\")\n",
    "\n",
    "\n",
    "robot = Robot(\"Robo\", \"Toyota\")\n",
    "\n",
    "\n",
    "robot.eat()\n",
    "robot.sleep()\n",
    "robot.drive()\n",
    "robot.talk()\n",
    "robot.move()"
   ]
  },
  {
   "cell_type": "code",
   "execution_count": 5,
   "id": "6c437693-0591-4b56-8ede-aff9d1702498",
   "metadata": {},
   "outputs": [],
   "source": [
    "## No.4 :-\n",
    "\n",
    "# Getter:- A method that allows us to access an attribute in a given class.\n",
    "# Setter:- A method that allows us to set or mutate the value of an attribute in a class.\n",
    "\n",
    "class MyClass:\n",
    "    def __init__(self):\n",
    "        self._value = None\n",
    "\n",
    "    def get_value(self):\n",
    "        return self._value\n",
    "\n",
    "    def set_value(self, new_value):\n",
    "        self._value = new_value"
   ]
  },
  {
   "cell_type": "code",
   "execution_count": 6,
   "id": "5ef40907-a7ed-4647-a7b2-2430fe0b5913",
   "metadata": {},
   "outputs": [
    {
     "name": "stdout",
     "output_type": "stream",
     "text": [
      "None\n",
      "42\n",
      "Hello\n"
     ]
    }
   ],
   "source": [
    "obj = MyClass()\n",
    "\n",
    "print(obj.get_value())    \n",
    "\n",
    "obj.set_value(42)\n",
    "print(obj.get_value())    \n",
    "\n",
    "obj.set_value(\"Hello\")\n",
    "print(obj.get_value())    "
   ]
  },
  {
   "cell_type": "code",
   "execution_count": 9,
   "id": "db3f5e4d-2efc-430a-ae40-139c58131ff8",
   "metadata": {},
   "outputs": [
    {
     "name": "stdout",
     "output_type": "stream",
     "text": [
      "Calculating area in the Shape class\n",
      "Calculating area in the Rectangle class\n",
      "Calculating area in the Circle class\n"
     ]
    }
   ],
   "source": [
    "## No.5 :-\n",
    "\n",
    "# Method overriding :- Method overriding is a feature of object-oriented programming languages where the subclass or child class can provide the program with specific characteristics or a specific implementation process of data provided that are already defined in the parent class or superclass.\n",
    "\n",
    "class Shape:\n",
    "    def area(self):\n",
    "        print(\"Calculating area in the Shape class\")\n",
    "\n",
    "class Rectangle(Shape):\n",
    "    def area(self):\n",
    "        print(\"Calculating area in the Rectangle class\")\n",
    "\n",
    "class Circle(Shape):\n",
    "    def area(self):\n",
    "        print(\"Calculating area in the Circle class\")\n",
    "\n",
    "shape = Shape()\n",
    "rectangle = Rectangle()\n",
    "circle = Circle()\n",
    "\n",
    "shape.area()        \n",
    "rectangle.area()    \n",
    "circle.area()       "
   ]
  },
  {
   "cell_type": "code",
   "execution_count": null,
   "id": "52d523fd-473b-4ba2-8b92-f6daa6b84875",
   "metadata": {},
   "outputs": [],
   "source": []
  }
 ],
 "metadata": {
  "kernelspec": {
   "display_name": "Python 3 (ipykernel)",
   "language": "python",
   "name": "python3"
  },
  "language_info": {
   "codemirror_mode": {
    "name": "ipython",
    "version": 3
   },
   "file_extension": ".py",
   "mimetype": "text/x-python",
   "name": "python",
   "nbconvert_exporter": "python",
   "pygments_lexer": "ipython3",
   "version": "3.10.8"
  }
 },
 "nbformat": 4,
 "nbformat_minor": 5
}
