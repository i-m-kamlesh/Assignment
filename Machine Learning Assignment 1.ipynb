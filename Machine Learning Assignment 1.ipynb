{
 "cells": [
  {
   "cell_type": "code",
   "execution_count": 1,
   "id": "dd580ee4-dd14-4cbd-bae4-3095bb4ca1bd",
   "metadata": {},
   "outputs": [],
   "source": [
    "# Q.1 :- 1 : Artificial Intelligence = Artificial intelligence (AI) is the ability of a computer or robot to perform tasks that are usually associated with human intellectual processes. This includes tasks like reasoning and decision making.\n",
    "           #Example : Self driving Car, Epayments, Robots etc\n",
    "    \n",
    "# 2 : Machine Learning = Machine learning (ML) is a branch of artificial intelligence (AI) that enables computers to learn from data and past experiences to identify patterns and make predictions.\n",
    "               #Example : Chatbots, Traffic alerts using Google Maps\n",
    "    \n",
    "# 3 : Deep Learning = Deep learning is a type of machine learning and artificial intelligence (AI) that teaches computers to learn by example. It uses multiple layers to extract higher-level features from raw input.\n",
    "             # Example : Object Detection, Image recognition"
   ]
  },
  {
   "cell_type": "code",
   "execution_count": 2,
   "id": "750da841-df55-422f-a5a8-624ad4bbab2d",
   "metadata": {},
   "outputs": [],
   "source": [
    "# Q.2 :- Supervised learning is a type of machine learning where the algorithm is trained on a labeled dataset, which means that the input data is paired with the corresponding correct output.The algorithm learns the mapping between the input and output by generalizing from the labeled examples in the training data. The goal of supervised learning is to make predictions or decisions when presented with new, unseen data.\n",
    "    # Example : Linear Regression, Logistic Regression, Support Vector Machines (SVM), Decision Trees and Random Forests, Neural Networks etc"
   ]
  },
  {
   "cell_type": "code",
   "execution_count": 3,
   "id": "7b10eeab-39ba-48ee-852a-84c65ad0c1e0",
   "metadata": {},
   "outputs": [],
   "source": [
    "# Q.3 :- Unsupervised learning is a type of machine learning where the algorithm is given input data without explicit instructions on what to do with it. Unlike supervised learning, there are no labeled output variables to guide the learning process. The algorithm tries to find patterns, relationships, or structures in the data on its own. Unsupervised learning is often used for tasks such as clustering and dimensionality reduction.\n",
    "    # Example :- K-Means Clustering, Hierarchical Clustering, Principal Component Analysis (PCA), Apriori Algorithm, t-Distributed Stochastic Neighbor Embedding (t-SNE), etc "
   ]
  },
  {
   "cell_type": "code",
   "execution_count": 4,
   "id": "00ac0bdd-80bc-430f-9977-db99648e48b8",
   "metadata": {},
   "outputs": [],
   "source": [
    "# Q.4 :- (i) AI is the overarching concept that aims to create intelligent machines. ML is a subset of AI, focusing on algorithms that enable machines to learn from data. DL is a subset of ML, specifically involving deep neural networks. DS is a broader field that involves the extraction of knowledge from data, employing techniques from statistics, ML, and other disciplines.\n",
    "     #   (ii) AI can involve rule-based systems and expert systems, while ML focuses on learning from data. DL, a subset of ML, specifically involves deep neural networks with many layers. DS encompasses various methods, including statistical approaches, machine learning, and data analysis."
   ]
  },
  {
   "cell_type": "code",
   "execution_count": 5,
   "id": "b527a982-bd79-41b3-9ab1-a843cde4bb95",
   "metadata": {},
   "outputs": [],
   "source": [
    "# Q.5 :- The main difference between supervised, unsupervised, and semi-supervised learning lies in the type of data they use and the nature of the learning process.\n",
    "    # Supervised learning involves learning from labeled data, where the algorithm is trained to map input to output.\n",
    "    # Unsupervised learning involves learning from unlabeled data, where the algorithm discovers patterns or structures within the data.\n",
    "    # Semi-supervised learning combines both labeled and unlabeled data, utilizing the labeled data for supervised learning tasks and the unlabeled data for additional insights."
   ]
  },
  {
   "cell_type": "code",
   "execution_count": 1,
   "id": "3cdf88be-6650-4950-b464-2a810f60b2b1",
   "metadata": {},
   "outputs": [],
   "source": [
    "# Q.6 :- The train-validation-test split is a technique that divides a dataset into three subsets: the training set, the validation set, and the test set. Each subset has a specific purpose that contributes to the creation of reliable machine learning models.\n",
    "    # (i) Training set :- The training set is used to train the machine learning model. It consists of input data along with the corresponding output labels. The model learns from this data, adjusting its parameters to minimize the difference between its predictions and the true labels.\n",
    "    # (ii) Validation Set :- he validation set is used to fine-tune the model's hyperparameters and to provide an unbiased evaluation of a model fit during the training phase. It helps prevent overfitting, where a model performs well on the training data but fails to generalize to new data.\n",
    "    # (iii) Test Set :- The test set is used to assess the model's performance after training and validation. It consists of unseen data that was not used during the training or validation phases."
   ]
  },
  {
   "cell_type": "code",
   "execution_count": 2,
   "id": "23d84158-3cc7-481c-84f4-f013e95b11d7",
   "metadata": {},
   "outputs": [],
   "source": [
    "# Q.7 :- Unsupervised learning is commonly used in anomaly detection because it allows the algorithm to learn the normal patterns or structures within the data without explicit labels for normal and anomalous instances. Anomalies are data points that deviate from the established normal behavior.\n",
    "     # Example :- Clustering, Density-Based Approaches, Autoencoders, Isolation Forests, One-Class SVM, Mahalanobis Distance etc"
   ]
  },
  {
   "cell_type": "code",
   "execution_count": 3,
   "id": "48351dd7-34b2-439c-be7a-c9ae0dc59026",
   "metadata": {},
   "outputs": [],
   "source": [
    "# Q.8 :- (i) Commonly Used Supervised Learning Algorithms:\n",
    "         # Example :- Linear Regression, Logistic Regression, Decision Trees, Random Forests etc\n",
    "    \n",
    "      #(ii) Commonly Used Unsupervised Learning Algorithms::\n",
    "        # Example :- K-Means Clustering, Hierarchical Clustering, DBSCAN, Principal Component Analysis, Gaussian Mixture Models etc"
   ]
  }
 ],
 "metadata": {
  "kernelspec": {
   "display_name": "Python 3 (ipykernel)",
   "language": "python",
   "name": "python3"
  },
  "language_info": {
   "codemirror_mode": {
    "name": "ipython",
    "version": 3
   },
   "file_extension": ".py",
   "mimetype": "text/x-python",
   "name": "python",
   "nbconvert_exporter": "python",
   "pygments_lexer": "ipython3",
   "version": "3.10.8"
  }
 },
 "nbformat": 4,
 "nbformat_minor": 5
}
