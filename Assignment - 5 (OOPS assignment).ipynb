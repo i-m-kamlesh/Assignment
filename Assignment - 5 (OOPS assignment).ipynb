{
 "cells": [
  {
   "cell_type": "code",
   "execution_count": 1,
   "id": "729613c1-04a4-4937-b235-4bc6f0260c42",
   "metadata": {},
   "outputs": [],
   "source": [
    "## No.1 :- Classes are user-defined data types that act as the blueprint for individual objects, attributes and methods. Objects are instances of a class created with specifically defined data."
   ]
  },
  {
   "cell_type": "code",
   "execution_count": 2,
   "id": "872811b9-3072-4adc-ba8d-fd36ed22b5c4",
   "metadata": {},
   "outputs": [],
   "source": [
    "# Example :-\n",
    "\n",
    "class Pwskills :\n",
    "    def __init__(self, name , email) :\n",
    "        \n",
    "        self.name = name\n",
    "        self.email = email\n",
    "        \n",
    "    def student_details(self) :\n",
    "        print(self.name , self.email)"
   ]
  },
  {
   "cell_type": "code",
   "execution_count": 3,
   "id": "e30ad171-d7a2-4879-9cf3-36fc19ed7e43",
   "metadata": {},
   "outputs": [],
   "source": [
    "pw = Pwskills(\"kamlesh\" , \"kamlesh@hotmail.com\")"
   ]
  },
  {
   "cell_type": "code",
   "execution_count": 4,
   "id": "a1588cf2-3fd2-4387-b9a5-af040fd89b11",
   "metadata": {},
   "outputs": [
    {
     "data": {
      "text/plain": [
       "'kamlesh'"
      ]
     },
     "execution_count": 4,
     "metadata": {},
     "output_type": "execute_result"
    }
   ],
   "source": [
    "pw.name"
   ]
  },
  {
   "cell_type": "code",
   "execution_count": 5,
   "id": "efb9f1ce-98c4-411a-ac61-ca8bde74a0c6",
   "metadata": {},
   "outputs": [
    {
     "data": {
      "text/plain": [
       "'kamlesh@hotmail.com'"
      ]
     },
     "execution_count": 5,
     "metadata": {},
     "output_type": "execute_result"
    }
   ],
   "source": [
    "pw.email"
   ]
  },
  {
   "cell_type": "code",
   "execution_count": 6,
   "id": "0006ecc0-554a-439c-a73a-7f095dad68c8",
   "metadata": {},
   "outputs": [],
   "source": [
    "## No.2 :- The four pillars of OOPs are :- (i) Abstraction , (ii) Encapsulation , (iii) Inheritance , (iv) Polymorphism"
   ]
  },
  {
   "cell_type": "code",
   "execution_count": 7,
   "id": "3d7690a7-4ac8-4b88-82b5-b2e39f316c05",
   "metadata": {},
   "outputs": [],
   "source": [
    "## No. 3 :- __init__ is a special python method that runs whenever a new object is created. These types of functions are used to initialize the attributes of that class."
   ]
  },
  {
   "cell_type": "code",
   "execution_count": 8,
   "id": "dded7ff3-c389-40fd-bd55-1c49bf4a68b1",
   "metadata": {},
   "outputs": [
    {
     "name": "stdout",
     "output_type": "stream",
     "text": [
      "I will run first\n",
      "I will run second\n",
      "Name: Damien Hirst Trek Madone\n"
     ]
    }
   ],
   "source": [
    "#Example :-\n",
    "\n",
    "class Bicycle:\n",
    "    def __init__(self, name):\n",
    "        self.name = name\n",
    "        print(\"I will run first\")\n",
    " \n",
    "    def product(self):\n",
    "        print(\"I will run second\")\n",
    "        return (\"Name: \" + self.name)\n",
    " \n",
    " \n",
    "b = Bicycle('Damien Hirst Trek Madone')\n",
    "print(b.product())\n"
   ]
  },
  {
   "cell_type": "code",
   "execution_count": 9,
   "id": "ec023b95-ef8a-47b8-8644-f3108c9a87ae",
   "metadata": {},
   "outputs": [],
   "source": [
    "## No.4 :- Self variable is used to represent the instance of class which is often used in oops. It works as a reference to the object."
   ]
  },
  {
   "cell_type": "code",
   "execution_count": 10,
   "id": "819aa2d4-46e2-4e77-92ed-6b7a283ac30f",
   "metadata": {},
   "outputs": [],
   "source": [
    "## No. 5 :- Inheritance is the concept in OOPs in which one class inherits the attributes and methods of another class."
   ]
  },
  {
   "cell_type": "code",
   "execution_count": 15,
   "id": "f6785646-e1ca-4bda-981c-7dd420f2c7b6",
   "metadata": {},
   "outputs": [],
   "source": [
    "## There are two types of inheritance :- (i) Multi lebel inheritance and (ii) Multiple inheritance"
   ]
  },
  {
   "cell_type": "code",
   "execution_count": 23,
   "id": "207a91fa-6a2f-490a-b2f7-952acbc67736",
   "metadata": {},
   "outputs": [],
   "source": [
    "## Multi lebel Inheritance\n",
    "\n",
    "class class1 :\n",
    "    def test_class1(self) :\n",
    "        print(\"This is my class1\")"
   ]
  },
  {
   "cell_type": "code",
   "execution_count": 24,
   "id": "0754aa4b-21cf-4e85-aa13-ffa199352c0d",
   "metadata": {},
   "outputs": [],
   "source": [
    "class class2(class1) :\n",
    "    def test_class2(self) :\n",
    "        print(\"This is my class2\")"
   ]
  },
  {
   "cell_type": "code",
   "execution_count": 25,
   "id": "2ac3f626-4d32-405e-8c20-d1d436f348fe",
   "metadata": {},
   "outputs": [],
   "source": [
    "class class3(class2) :\n",
    "    def test_class3(self) :\n",
    "        print(\"This is my class3\")"
   ]
  },
  {
   "cell_type": "code",
   "execution_count": 26,
   "id": "df151b84-eae2-4734-94f1-49f7ce76c213",
   "metadata": {},
   "outputs": [],
   "source": [
    "obj_class3 = class3()"
   ]
  },
  {
   "cell_type": "code",
   "execution_count": 27,
   "id": "3f42580a-1c8c-4ae0-b1b6-981f89086e18",
   "metadata": {},
   "outputs": [
    {
     "name": "stdout",
     "output_type": "stream",
     "text": [
      "This is my class1\n"
     ]
    }
   ],
   "source": [
    "obj_class3.test_class1()"
   ]
  },
  {
   "cell_type": "code",
   "execution_count": 28,
   "id": "6fb783ae-c75a-4659-a4ce-42d0ed1c593f",
   "metadata": {},
   "outputs": [
    {
     "name": "stdout",
     "output_type": "stream",
     "text": [
      "This is my class2\n"
     ]
    }
   ],
   "source": [
    "obj_class3.test_class2()"
   ]
  },
  {
   "cell_type": "code",
   "execution_count": 29,
   "id": "95f8a5c4-571e-4c6c-b5f2-571ee5570f63",
   "metadata": {},
   "outputs": [
    {
     "name": "stdout",
     "output_type": "stream",
     "text": [
      "This is my class3\n"
     ]
    }
   ],
   "source": [
    "obj_class3.test_class3()"
   ]
  },
  {
   "cell_type": "code",
   "execution_count": 30,
   "id": "3e00809c-a13f-4f28-b624-de11ed1b73c3",
   "metadata": {},
   "outputs": [],
   "source": [
    "## Multiple Inheritance\n",
    "\n",
    "class class1 :\n",
    "    def test_class1(self) :\n",
    "        print(\"This is my class 1\")"
   ]
  },
  {
   "cell_type": "code",
   "execution_count": 31,
   "id": "75177816-a1d5-4c49-ad46-a3050fce2de0",
   "metadata": {},
   "outputs": [],
   "source": [
    "class class2 :\n",
    "    def test_class2(self) :\n",
    "        print(\"This is my class 2\")"
   ]
  },
  {
   "cell_type": "code",
   "execution_count": 32,
   "id": "ce31aeab-8428-421b-810b-5a35b8195a32",
   "metadata": {},
   "outputs": [],
   "source": [
    "class class3 (class1 , class2) :\n",
    "    pass"
   ]
  },
  {
   "cell_type": "code",
   "execution_count": 33,
   "id": "67ee3365-cf9d-4af3-84d8-50d965fcff26",
   "metadata": {},
   "outputs": [],
   "source": [
    "obj_class3 = class3()"
   ]
  },
  {
   "cell_type": "code",
   "execution_count": 34,
   "id": "d6ab71be-4924-4621-a2a0-4d27d9505f48",
   "metadata": {},
   "outputs": [
    {
     "name": "stdout",
     "output_type": "stream",
     "text": [
      "This is my class 1\n"
     ]
    }
   ],
   "source": [
    "obj_class3.test_class1()"
   ]
  },
  {
   "cell_type": "code",
   "execution_count": 35,
   "id": "fbf4d718-6b81-432c-b640-c31e5207bf1d",
   "metadata": {},
   "outputs": [
    {
     "name": "stdout",
     "output_type": "stream",
     "text": [
      "This is my class 2\n"
     ]
    }
   ],
   "source": [
    "obj_class3.test_class2()"
   ]
  },
  {
   "cell_type": "code",
   "execution_count": null,
   "id": "507eb0cb-66c2-447f-8388-c7e2b90d2d03",
   "metadata": {},
   "outputs": [],
   "source": []
  }
 ],
 "metadata": {
  "kernelspec": {
   "display_name": "Python 3 (ipykernel)",
   "language": "python",
   "name": "python3"
  },
  "language_info": {
   "codemirror_mode": {
    "name": "ipython",
    "version": 3
   },
   "file_extension": ".py",
   "mimetype": "text/x-python",
   "name": "python",
   "nbconvert_exporter": "python",
   "pygments_lexer": "ipython3",
   "version": "3.10.8"
  }
 },
 "nbformat": 4,
 "nbformat_minor": 5
}
