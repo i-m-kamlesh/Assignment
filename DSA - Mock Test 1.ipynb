{
 "cells": [
  {
   "cell_type": "code",
   "execution_count": 1,
   "id": "0f59fc3d-f95e-4f97-beb6-e9231a68e912",
   "metadata": {},
   "outputs": [
    {
     "name": "stdout",
     "output_type": "stream",
     "text": [
      "[1, 3, 12, 0, 0]\n"
     ]
    }
   ],
   "source": [
    "def moveZeroes(nums):\n",
    "    nonZeroIndex = 0\n",
    "\n",
    "    \n",
    "    for i in range(len(nums)):\n",
    "        if nums[i] != 0:\n",
    "            nums[nonZeroIndex], nums[i] = nums[i], nums[nonZeroIndex]\n",
    "            nonZeroIndex += 1\n",
    "\n",
    "    \n",
    "    for i in range(nonZeroIndex, len(nums)):\n",
    "        nums[i] = 0\n",
    "\n",
    "\n",
    "nums = [0, 1, 0, 3, 12]\n",
    "moveZeroes(nums)\n",
    "print(nums)\n"
   ]
  },
  {
   "cell_type": "code",
   "execution_count": 2,
   "id": "80ce5535-0050-487a-876d-ecad00cd54d1",
   "metadata": {},
   "outputs": [
    {
     "name": "stdout",
     "output_type": "stream",
     "text": [
      "[0]\n"
     ]
    }
   ],
   "source": [
    "def moveZeroes(nums):\n",
    "    nonZeroIndex = 0\n",
    "\n",
    "    \n",
    "    for i in range(len(nums)):\n",
    "        if nums[i] != 0:\n",
    "            nums[nonZeroIndex], nums[i] = nums[i], nums[nonZeroIndex]\n",
    "            nonZeroIndex += 1\n",
    "\n",
    "    \n",
    "    for i in range(nonZeroIndex, len(nums)):\n",
    "        nums[i] = 0\n",
    "\n",
    "\n",
    "nums = [0]\n",
    "moveZeroes(nums)\n",
    "print(nums)"
   ]
  },
  {
   "cell_type": "code",
   "execution_count": 3,
   "id": "17a6c5a6-28f3-49e6-8003-f093e4cabf2e",
   "metadata": {},
   "outputs": [
    {
     "name": "stdout",
     "output_type": "stream",
     "text": [
      "0\n"
     ]
    }
   ],
   "source": [
    "def firstUniqChar(s):\n",
    "    charCount = {}\n",
    "\n",
    "    \n",
    "    for char in s:\n",
    "        charCount[char] = charCount.get(char, 0) + 1\n",
    "\n",
    "    \n",
    "    for i in range(len(s)):\n",
    "        if charCount[s[i]] == 1:\n",
    "            return i\n",
    "\n",
    "    return -1\n",
    "\n",
    "\n",
    "s = \"leetcode\"\n",
    "print(firstUniqChar(s))\n"
   ]
  },
  {
   "cell_type": "code",
   "execution_count": 4,
   "id": "e6eb453e-bf4b-42ed-ac48-023831277211",
   "metadata": {},
   "outputs": [
    {
     "name": "stdout",
     "output_type": "stream",
     "text": [
      "2\n"
     ]
    }
   ],
   "source": [
    "def firstUniqChar(s):\n",
    "    charCount = {}\n",
    "\n",
    "    \n",
    "    for char in s:\n",
    "        charCount[char] = charCount.get(char, 0) + 1\n",
    "\n",
    "    \n",
    "    for i in range(len(s)):\n",
    "        if charCount[s[i]] == 1:\n",
    "            return i\n",
    "\n",
    "    return -1\n",
    "\n",
    "\n",
    "s = \"loveleetcode\"\n",
    "print(firstUniqChar(s))"
   ]
  },
  {
   "cell_type": "code",
   "execution_count": 5,
   "id": "c9357058-9c5a-40ed-ba87-5b558e628163",
   "metadata": {},
   "outputs": [
    {
     "name": "stdout",
     "output_type": "stream",
     "text": [
      "-1\n"
     ]
    }
   ],
   "source": [
    "def firstUniqChar(s):\n",
    "    charCount = {}\n",
    "\n",
    "    \n",
    "    for char in s:\n",
    "        charCount[char] = charCount.get(char, 0) + 1\n",
    "\n",
    "    \n",
    "    for i in range(len(s)):\n",
    "        if charCount[s[i]] == 1:\n",
    "            return i\n",
    "\n",
    "    return -1\n",
    "\n",
    "\n",
    "s = \"aabb\"\n",
    "print(firstUniqChar(s))"
   ]
  }
 ],
 "metadata": {
  "kernelspec": {
   "display_name": "Python 3 (ipykernel)",
   "language": "python",
   "name": "python3"
  },
  "language_info": {
   "codemirror_mode": {
    "name": "ipython",
    "version": 3
   },
   "file_extension": ".py",
   "mimetype": "text/x-python",
   "name": "python",
   "nbconvert_exporter": "python",
   "pygments_lexer": "ipython3",
   "version": "3.10.8"
  }
 },
 "nbformat": 4,
 "nbformat_minor": 5
}
