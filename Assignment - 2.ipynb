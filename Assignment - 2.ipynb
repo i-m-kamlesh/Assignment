{
 "cells": [
  {
   "cell_type": "code",
   "execution_count": 1,
   "id": "88cbd0dd-4be3-4aa6-9417-4c7c668884d2",
   "metadata": {},
   "outputs": [],
   "source": [
    "## No.1 (Ans) We comment code in pyhton by a hash(#) symbol. There are three types of cooments in python : (i) Single line comment (ii) Multiline comment (iii) Docstring comment"
   ]
  },
  {
   "cell_type": "code",
   "execution_count": 2,
   "id": "be4bb15b-61dc-44ad-817e-7fd843d50868",
   "metadata": {},
   "outputs": [
    {
     "name": "stdout",
     "output_type": "stream",
     "text": [
      "28\n",
      "10000\n",
      "Kamlesh\n"
     ]
    }
   ],
   "source": [
    "## No. 2 (Ans) Python Variable is a container that store values.\n",
    "## We can declare and assign values to variable in python in this way\n",
    "## for example :\n",
    "\n",
    "age = 28\n",
    "\n",
    "salary = 10000\n",
    "\n",
    "name = \"Kamlesh\"\n",
    "\n",
    "print(age)\n",
    "print(salary)\n",
    "print(name)\n"
   ]
  },
  {
   "cell_type": "code",
   "execution_count": 3,
   "id": "cba26e89-6156-45be-948c-c9a9d836a8c0",
   "metadata": {},
   "outputs": [
    {
     "name": "stdout",
     "output_type": "stream",
     "text": [
      "<class 'int'>\n",
      "<class 'int'>\n",
      "100\n",
      "<class 'int'>\n"
     ]
    }
   ],
   "source": [
    "## No. 3 (Ans) We convert one data type to another in python by two methods :\n",
    "## method -1 :\n",
    "\n",
    "a = 10\n",
    "print(type(a))\n",
    "\n",
    "b = 2\n",
    "print(type(b))\n",
    "\n",
    "c = a**b\n",
    "print(c)\n",
    "print(type(c))\n",
    "\n",
    "## This is called implicit type conversion\n"
   ]
  },
  {
   "cell_type": "code",
   "execution_count": 4,
   "id": "d229b0a6-3bac-4c40-ad5c-4e00ef7065d0",
   "metadata": {},
   "outputs": [
    {
     "name": "stdout",
     "output_type": "stream",
     "text": [
      "100\n",
      "<class 'str'>\n"
     ]
    }
   ],
   "source": [
    "## method - 2 :\n",
    "\n",
    "k = 100\n",
    "s = str(k)\n",
    "print(s)\n",
    "print(type(s))\n",
    "\n",
    "## This is called explicit type conversion and in this example a number is converted to string."
   ]
  },
  {
   "cell_type": "code",
   "execution_count": 7,
   "id": "d2867d37-a210-4d21-85dd-083245ee9aa6",
   "metadata": {},
   "outputs": [],
   "source": [
    "## No. 4 (Ans) We write and execute a python script from the command line by using .py extension"
   ]
  },
  {
   "cell_type": "code",
   "execution_count": 8,
   "id": "d1e8cb4e-18bb-4c05-aa9f-0df6ed8e5b57",
   "metadata": {},
   "outputs": [
    {
     "name": "stdout",
     "output_type": "stream",
     "text": [
      "[2, 3]\n"
     ]
    }
   ],
   "source": [
    "## No.5 (Ans)\n",
    "my_list = [1, 2, 3, 4, 5]\n",
    "sub_list = my_list[1:3]\n",
    "print(sub_list)"
   ]
  },
  {
   "cell_type": "code",
   "execution_count": 9,
   "id": "36183981-7ac3-45b8-bc8f-e89e4c40f9f7",
   "metadata": {},
   "outputs": [
    {
     "name": "stdout",
     "output_type": "stream",
     "text": [
      "(3+2j)\n",
      "(4+5j)\n"
     ]
    }
   ],
   "source": [
    "## No.6 (Ans) In mathematics, a complex number is a number that comprises a real part and an imaginary part. It is written in the form a + bi, where a is the real part, b is the imaginary part, and i is the imaginary unit, defined as the square root of -1.\n",
    "##In Python, complex numbers can be represented using the complex data type. The imaginary part is denoted using the letter j instead of i. The real and imaginary parts are written as separate numerical values. Here's an example:python\n",
    "## For example :\n",
    "\n",
    "y = 3 + 2j\n",
    "print(y)\n",
    "\n",
    "z = complex(4 , 5)\n",
    "print(z)"
   ]
  },
  {
   "cell_type": "code",
   "execution_count": 11,
   "id": "06223804-40be-48b3-a786-ca784db58939",
   "metadata": {},
   "outputs": [
    {
     "name": "stdout",
     "output_type": "stream",
     "text": [
      "My age is25\n"
     ]
    }
   ],
   "source": [
    "## No.7 (Ans)\n",
    "age = 25\n",
    "s = str(age)\n",
    "print(\"My age is\" + s)"
   ]
  },
  {
   "cell_type": "code",
   "execution_count": 13,
   "id": "dca276b8-1c8a-439b-9b07-b4bec7ed1ea4",
   "metadata": {},
   "outputs": [
    {
     "data": {
      "text/plain": [
       "float"
      ]
     },
     "execution_count": 13,
     "metadata": {},
     "output_type": "execute_result"
    }
   ],
   "source": [
    "## No.8 (Ans)\n",
    "price = 9.99\n",
    "type(price)\n",
    "## This is a float value"
   ]
  },
  {
   "cell_type": "code",
   "execution_count": 14,
   "id": "adea65a0-82eb-450f-a9f1-af5414e39ce5",
   "metadata": {},
   "outputs": [
    {
     "name": "stdout",
     "output_type": "stream",
     "text": [
      "Kamalesh Parhi\n"
     ]
    }
   ],
   "source": [
    "## No.9 (Ans)\n",
    "name = \"Kamalesh Parhi\"\n",
    "print(name)"
   ]
  },
  {
   "cell_type": "code",
   "execution_count": 15,
   "id": "776506d0-b5fb-4c81-a2d5-578cfeea6349",
   "metadata": {},
   "outputs": [
    {
     "name": "stdout",
     "output_type": "stream",
     "text": [
      "World\n"
     ]
    }
   ],
   "source": [
    "## No.10 (Ans)\n",
    "string = \"Hello, World!\"\n",
    "substring = string[7:12]\n",
    "print(substring)"
   ]
  },
  {
   "cell_type": "code",
   "execution_count": null,
   "id": "1eca6042-d648-49b8-afe2-079f534de327",
   "metadata": {},
   "outputs": [],
   "source": [
    "## No.11 (Ans)"
   ]
  },
  {
   "cell_type": "code",
   "execution_count": null,
   "id": "1d354ec0-56cb-4c76-a807-5c2a6b60c080",
   "metadata": {},
   "outputs": [],
   "source": []
  },
  {
   "cell_type": "code",
   "execution_count": null,
   "id": "6332c88d-72e8-4bc4-ab2f-44163967fe01",
   "metadata": {},
   "outputs": [],
   "source": []
  }
 ],
 "metadata": {
  "kernelspec": {
   "display_name": "Python 3 (ipykernel)",
   "language": "python",
   "name": "python3"
  },
  "language_info": {
   "codemirror_mode": {
    "name": "ipython",
    "version": 3
   },
   "file_extension": ".py",
   "mimetype": "text/x-python",
   "name": "python",
   "nbconvert_exporter": "python",
   "pygments_lexer": "ipython3",
   "version": "3.10.8"
  }
 },
 "nbformat": 4,
 "nbformat_minor": 5
}
