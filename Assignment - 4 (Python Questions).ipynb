{
 "cells": [
  {
   "cell_type": "code",
   "execution_count": 1,
   "id": "892f8327-de0d-4a14-ab45-b0a5e02f4989",
   "metadata": {},
   "outputs": [
    {
     "name": "stdout",
     "output_type": "stream",
     "text": [
      "[('Virat Kohli', 24936), ('Jack Kallis', 25534), ('Ricky Ponting', 27483), ('Sachin Tendulkar', 34357)]\n"
     ]
    }
   ],
   "source": [
    "## No.1 :-\n",
    "\n",
    "data = [('Sachin Tendulkar', 34357), ('Ricky Ponting', 27483), ('Jack Kallis', 25534), ('Virat Kohli', 24936)]\n",
    "\n",
    "sorted_data = sorted(data, key=lambda x: x[1])\n",
    "\n",
    "print(sorted_data)"
   ]
  },
  {
   "cell_type": "code",
   "execution_count": 3,
   "id": "fb2379a4-e915-41a4-84f3-3c081e19be0b",
   "metadata": {},
   "outputs": [
    {
     "name": "stdout",
     "output_type": "stream",
     "text": [
      "[1, 4, 9, 16, 25, 36, 49, 64, 81, 100]\n"
     ]
    }
   ],
   "source": [
    "## No.2 :-\n",
    "\n",
    "numbers = [1, 2, 3, 4, 5, 6, 7, 8, 9, 10]\n",
    "squares = list(map(lambda x: x**2, numbers))\n",
    "print(squares)"
   ]
  },
  {
   "cell_type": "code",
   "execution_count": 4,
   "id": "58e180df-51ed-4483-b693-4ae864b19fcb",
   "metadata": {},
   "outputs": [
    {
     "name": "stdout",
     "output_type": "stream",
     "text": [
      "('1', '2', '3', '4', '5', '6', '7', '8', '9', '10')\n"
     ]
    }
   ],
   "source": [
    "## No.3 :-\n",
    "\n",
    "numbers = [1, 2, 3, 4, 5, 6, 7, 8, 9, 10]\n",
    "strings_tuple = tuple(map(lambda x: str(x), numbers))\n",
    "print(strings_tuple)"
   ]
  },
  {
   "cell_type": "code",
   "execution_count": 8,
   "id": "d0274ef3-d3f0-475b-a9aa-c5b3b79c2da2",
   "metadata": {},
   "outputs": [
    {
     "name": "stdout",
     "output_type": "stream",
     "text": [
      "15511210043330985984000000\n"
     ]
    }
   ],
   "source": [
    "## No.4 :-\n",
    "\n",
    "numbers = list(range(1, 26))\n",
    "product = reduce(lambda x, y: x * y, numbers)\n",
    "print(product)"
   ]
  },
  {
   "cell_type": "code",
   "execution_count": 9,
   "id": "27a5775e-8144-44e8-995b-6e0905199c81",
   "metadata": {},
   "outputs": [
    {
     "name": "stdout",
     "output_type": "stream",
     "text": [
      "[6, 60, 90, 120]\n"
     ]
    }
   ],
   "source": [
    "## No. 5 :-\n",
    "\n",
    "numbers = [2, 3, 6, 9, 27, 60, 90, 120, 55, 46]\n",
    "divisible_by_2_and_3 = list(filter(lambda x: x % 2 == 0 and x % 3 == 0, numbers))\n",
    "print(divisible_by_2_and_3)"
   ]
  },
  {
   "cell_type": "code",
   "execution_count": 10,
   "id": "46b49905-2e33-4d54-9888-b5cf3398b2e2",
   "metadata": {},
   "outputs": [
    {
     "name": "stdout",
     "output_type": "stream",
     "text": [
      "['php', 'aba', 'radar', 'level']\n"
     ]
    }
   ],
   "source": [
    "## No. 6 :-\n",
    "\n",
    "strings = ['python', 'php', 'aba', 'radar', 'level']\n",
    "palindromes = list(filter(lambda x: x == x[::-1], strings))\n",
    "print(palindromes)"
   ]
  },
  {
   "cell_type": "code",
   "execution_count": null,
   "id": "b805373d-0ad6-47af-aac5-cccd0dadd342",
   "metadata": {},
   "outputs": [],
   "source": []
  }
 ],
 "metadata": {
  "kernelspec": {
   "display_name": "Python 3 (ipykernel)",
   "language": "python",
   "name": "python3"
  },
  "language_info": {
   "codemirror_mode": {
    "name": "ipython",
    "version": 3
   },
   "file_extension": ".py",
   "mimetype": "text/x-python",
   "name": "python",
   "nbconvert_exporter": "python",
   "pygments_lexer": "ipython3",
   "version": "3.10.8"
  }
 },
 "nbformat": 4,
 "nbformat_minor": 5
}
