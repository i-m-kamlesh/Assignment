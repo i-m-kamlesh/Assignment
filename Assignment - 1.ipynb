{
 "cells": [
  {
   "cell_type": "code",
   "execution_count": 2,
   "id": "14a3c9bc-8b6c-4546-b1ae-2d81e1275906",
   "metadata": {},
   "outputs": [],
   "source": [
    "## No 1. (i) String Variable\n",
    "a = \"Pwskills\""
   ]
  },
  {
   "cell_type": "code",
   "execution_count": 5,
   "id": "e1bf3f73-c4f9-4d31-9ef6-2aba4bd0739c",
   "metadata": {},
   "outputs": [],
   "source": [
    "## No 1. (ii) List Variable\n",
    "b = [1,2,\"Kamlesh\", 4+7j]"
   ]
  },
  {
   "cell_type": "code",
   "execution_count": 6,
   "id": "5e2b8a43-8974-436f-8c7b-6203a3a96052",
   "metadata": {},
   "outputs": [],
   "source": [
    "## No 1. (iii) Float Variable\n",
    "c = 34.5695"
   ]
  },
  {
   "cell_type": "code",
   "execution_count": 8,
   "id": "1350c5b6-dc0c-49cc-a524-8ce117431b7d",
   "metadata": {},
   "outputs": [],
   "source": [
    "## No 1. (iv) Tuple Variable\n",
    "d = (1,2,3 ,\"Pwskills\", True)"
   ]
  },
  {
   "cell_type": "code",
   "execution_count": 2,
   "id": "874481a2-4a19-4784-8412-6661a8ec28a7",
   "metadata": {},
   "outputs": [],
   "source": [
    "## No 2. (i) \n",
    "var1 = ' '\n",
    "## This is a empty string"
   ]
  },
  {
   "cell_type": "code",
   "execution_count": 4,
   "id": "c5866125-0346-469c-9160-479e5d487aa8",
   "metadata": {},
   "outputs": [],
   "source": [
    "## No 2. (ii) \t\n",
    "var2 = '[ DS , ML , Python]'\n",
    "## This will be the string"
   ]
  },
  {
   "cell_type": "code",
   "execution_count": 5,
   "id": "73a4cf09-4073-4ca6-ad56-afe6b52b2f69",
   "metadata": {},
   "outputs": [],
   "source": [
    "## No 2. (iii)\n",
    "var3 = ['Ds' , 'ML' , 'Python']\n",
    "## This will be the List"
   ]
  },
  {
   "cell_type": "code",
   "execution_count": 6,
   "id": "fb62899f-e6ba-46cf-8d9f-70b6edcf2784",
   "metadata": {},
   "outputs": [],
   "source": [
    "## No 2. (iv)\n",
    "var4 = 1.\n",
    "# This will be the Float"
   ]
  },
  {
   "cell_type": "code",
   "execution_count": 7,
   "id": "2aa51174-c2bf-4a23-8a29-3045d70bf4ab",
   "metadata": {},
   "outputs": [
    {
     "data": {
      "text/plain": [
       "2.0"
      ]
     },
     "execution_count": 7,
     "metadata": {},
     "output_type": "execute_result"
    }
   ],
   "source": [
    "## No 3. (i) / used as Division\n",
    "10 / 5"
   ]
  },
  {
   "cell_type": "code",
   "execution_count": 8,
   "id": "7b81e5f3-a111-4b71-ba8c-e567de02a13a",
   "metadata": {},
   "outputs": [
    {
     "data": {
      "text/plain": [
       "2"
      ]
     },
     "execution_count": 8,
     "metadata": {},
     "output_type": "execute_result"
    }
   ],
   "source": [
    "## No 3. (ii) % used as Remainder\n",
    "20 % 6"
   ]
  },
  {
   "cell_type": "code",
   "execution_count": 9,
   "id": "8ec06947-1aa5-4900-8ee0-041a2ec83e21",
   "metadata": {},
   "outputs": [
    {
     "data": {
      "text/plain": [
       "6"
      ]
     },
     "execution_count": 9,
     "metadata": {},
     "output_type": "execute_result"
    }
   ],
   "source": [
    "## No 3. (iii) // used as Floor Division\n",
    "25 // 4"
   ]
  },
  {
   "cell_type": "code",
   "execution_count": 10,
   "id": "2de0c54d-a162-486b-89ef-34047c94d594",
   "metadata": {},
   "outputs": [
    {
     "data": {
      "text/plain": [
       "3125"
      ]
     },
     "execution_count": 10,
     "metadata": {},
     "output_type": "execute_result"
    }
   ],
   "source": [
    "## No 3. (iv) ** used as square\n",
    "5**5"
   ]
  },
  {
   "cell_type": "code",
   "execution_count": 14,
   "id": "74cb4294-15fe-411b-93de-603737dbf6e1",
   "metadata": {},
   "outputs": [],
   "source": [
    "## Q4. Create a list of length 10 of your choice containing multiple types of data. Using for loop print the element and its data type\n"
   ]
  },
  {
   "cell_type": "code",
   "execution_count": 15,
   "id": "0221b43c-07bb-4068-b0e1-afda25733dfb",
   "metadata": {},
   "outputs": [],
   "source": [
    "Lst = [1,2,3,4,\"kamlesh\" , True , 32.11, 3+5j , \"Pwskills\" , False]"
   ]
  },
  {
   "cell_type": "code",
   "execution_count": 17,
   "id": "b22e12bf-c2fa-464f-a299-06c7466d3f99",
   "metadata": {},
   "outputs": [
    {
     "name": "stdout",
     "output_type": "stream",
     "text": [
      "1\n",
      "2\n",
      "3\n",
      "4\n",
      "kamlesh\n",
      "True\n",
      "32.11\n",
      "(3+5j)\n",
      "Pwskills\n",
      "False\n"
     ]
    }
   ],
   "source": [
    "for i in (Lst) :\n",
    "    print(i)"
   ]
  },
  {
   "cell_type": "code",
   "execution_count": 18,
   "id": "447dfd50-ebd2-465a-a6a1-4f92c725ddd4",
   "metadata": {},
   "outputs": [
    {
     "name": "stdout",
     "output_type": "stream",
     "text": [
      "1\n",
      "<class 'int'>\n",
      "2\n",
      "<class 'int'>\n",
      "3\n",
      "<class 'int'>\n",
      "4\n",
      "<class 'int'>\n",
      "kamlesh\n",
      "<class 'str'>\n",
      "True\n",
      "<class 'bool'>\n",
      "32.11\n",
      "<class 'float'>\n",
      "(3+5j)\n",
      "<class 'complex'>\n",
      "Pwskills\n",
      "<class 'str'>\n",
      "False\n",
      "<class 'bool'>\n"
     ]
    }
   ],
   "source": [
    "for i in (Lst) :\n",
    "    print(i),print(type(i))"
   ]
  },
  {
   "cell_type": "code",
   "execution_count": 10,
   "id": "8419da40-be95-43f5-83e2-79487084acf8",
   "metadata": {},
   "outputs": [],
   "source": [
    "## No. 5   Using a while loop, verify if the number A is purely divisible by number B and if so then how many times it can be divisible."
   ]
  },
  {
   "cell_type": "code",
   "execution_count": 8,
   "id": "984a5b94-8bd4-4fe4-b0c8-1e52ade4e106",
   "metadata": {},
   "outputs": [
    {
     "name": "stdin",
     "output_type": "stream",
     "text": [
      "Enter number A:  25\n",
      "Enter number B:  5\n"
     ]
    },
    {
     "name": "stdout",
     "output_type": "stream",
     "text": [
      "1.0 is purely divisible by 5 and can be divided 2 times.\n"
     ]
    }
   ],
   "source": [
    "A = int(input(\"Enter number A: \"))\n",
    "B = int(input(\"Enter number B: \"))\n",
    "\n",
    "count = 0\n",
    "\n",
    "while A % B == 0:\n",
    "    A = A / B\n",
    "    count += 1\n",
    "\n",
    "if A == 1:\n",
    "    print(f\"{A} is purely divisible by {B} and can be divided {count} times.\")\n",
    "else:\n",
    "    print(f\"{A} is not purely divisible by {B}.\")\n"
   ]
  },
  {
   "cell_type": "code",
   "execution_count": 1,
   "id": "1388d543-f579-48fa-8160-cadd40fd6300",
   "metadata": {},
   "outputs": [],
   "source": [
    "## No.6  Create a list containing 25 int type data. Using for loop and if-else condition print if the element is divisible by 3 or not."
   ]
  },
  {
   "cell_type": "code",
   "execution_count": 6,
   "id": "fb9d9f8e-7dc0-4569-af71-c895b974bd9d",
   "metadata": {},
   "outputs": [
    {
     "name": "stdout",
     "output_type": "stream",
     "text": [
      "4 is not divisible by 3\n",
      "9 is divisible by 3\n",
      "15 is divisible by 3\n",
      "7 is not divisible by 3\n",
      "12 is divisible by 3\n",
      "18 is divisible by 3\n",
      "21 is divisible by 3\n",
      "30 is divisible by 3\n",
      "37 is not divisible by 3\n",
      "45 is divisible by 3\n",
      "52 is not divisible by 3\n",
      "63 is divisible by 3\n",
      "70 is not divisible by 3\n",
      "81 is divisible by 3\n",
      "90 is divisible by 3\n",
      "99 is divisible by 3\n",
      "105 is divisible by 3\n",
      "112 is not divisible by 3\n",
      "120 is divisible by 3\n",
      "133 is not divisible by 3\n",
      "140 is not divisible by 3\n",
      "153 is divisible by 3\n",
      "162 is divisible by 3\n",
      "170 is not divisible by 3\n",
      "183 is divisible by 3\n"
     ]
    }
   ],
   "source": [
    "numbers = [4, 9, 15, 7, 12, 18, 21, 30, 37, 45, 52, 63, 70, 81, 90, 99, 105, 112, 120, 133, 140, 153, 162, 170, 183]\n",
    "for num in numbers:\n",
    "    if num % 3 == 0:\n",
    "        print(num, \"is divisible by 3\")\n",
    "    else:\n",
    "        print(num, \"is not divisible by 3\")\n"
   ]
  },
  {
   "cell_type": "code",
   "execution_count": 9,
   "id": "b23cc436-a7b2-4524-b33b-49f16abebd04",
   "metadata": {},
   "outputs": [],
   "source": [
    "## No 7  What do you understand about mutable and immutable data types? Give examples for both showing this property."
   ]
  },
  {
   "cell_type": "code",
   "execution_count": 11,
   "id": "dde666e4-3178-4ac7-be79-7d4b3ad527a1",
   "metadata": {},
   "outputs": [],
   "source": [
    "## Ans -Mutable objects are those that allow you to change their value or data in place without affecting the object's identity. In contrast, immutable objects don't allow this kind of operation."
   ]
  },
  {
   "cell_type": "code",
   "execution_count": null,
   "id": "a0a5c3de-e124-49b4-b26d-b81c2c9b93dc",
   "metadata": {},
   "outputs": [],
   "source": [
    "## Example "
   ]
  }
 ],
 "metadata": {
  "kernelspec": {
   "display_name": "Python 3 (ipykernel)",
   "language": "python",
   "name": "python3"
  },
  "language_info": {
   "codemirror_mode": {
    "name": "ipython",
    "version": 3
   },
   "file_extension": ".py",
   "mimetype": "text/x-python",
   "name": "python",
   "nbconvert_exporter": "python",
   "pygments_lexer": "ipython3",
   "version": "3.10.8"
  }
 },
 "nbformat": 4,
 "nbformat_minor": 5
}
